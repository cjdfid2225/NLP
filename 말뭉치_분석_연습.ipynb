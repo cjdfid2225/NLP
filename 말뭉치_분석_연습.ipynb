{
  "nbformat": 4,
  "nbformat_minor": 0,
  "metadata": {
    "colab": {
      "name": "말뭉치 분석 연습.ipynb",
      "provenance": [],
      "collapsed_sections": []
    },
    "kernelspec": {
      "name": "python3",
      "display_name": "Python 3"
    }
  },
  "cells": [
    {
      "cell_type": "code",
      "metadata": {
        "id": "_IDg397abL6W"
      },
      "source": [
        "import numpy as np"
      ],
      "execution_count": null,
      "outputs": []
    },
    {
      "cell_type": "code",
      "metadata": {
        "id": "f4It6K25XKIm"
      },
      "source": [
        "text = 'You say goodbye and I say hello.'"
      ],
      "execution_count": null,
      "outputs": []
    },
    {
      "cell_type": "code",
      "metadata": {
        "id": "PGHkI4AxXat-"
      },
      "source": [
        "# <전처리>\n",
        "# 특수문자 제거\n",
        "# 문장 시작/끝 부호 표시\n",
        "# 단어 소문자화"
      ],
      "execution_count": null,
      "outputs": []
    },
    {
      "cell_type": "code",
      "metadata": {
        "id": "rleL4qqxX1T0",
        "colab": {
          "base_uri": "https://localhost:8080/",
          "height": 35
        },
        "outputId": "e2a733d5-6e2e-4af5-c498-5c9364925b85"
      },
      "source": [
        "text = text.lower()\n",
        "text"
      ],
      "execution_count": null,
      "outputs": [
        {
          "output_type": "execute_result",
          "data": {
            "application/vnd.google.colaboratory.intrinsic+json": {
              "type": "string"
            },
            "text/plain": [
              "'you say goodbye and i say hello.'"
            ]
          },
          "metadata": {
            "tags": []
          },
          "execution_count": 3
        }
      ]
    },
    {
      "cell_type": "code",
      "metadata": {
        "id": "4T1jI_5hX34k",
        "colab": {
          "base_uri": "https://localhost:8080/",
          "height": 35
        },
        "outputId": "7f212008-a08b-4959-e5fe-1ee0f6469e63"
      },
      "source": [
        "text = text.replace('.', ' .')\n",
        "text"
      ],
      "execution_count": null,
      "outputs": [
        {
          "output_type": "execute_result",
          "data": {
            "application/vnd.google.colaboratory.intrinsic+json": {
              "type": "string"
            },
            "text/plain": [
              "'you say goodbye and i say hello .'"
            ]
          },
          "metadata": {
            "tags": []
          },
          "execution_count": 4
        }
      ]
    },
    {
      "cell_type": "code",
      "metadata": {
        "id": "OQ3lQmyiYPrn",
        "colab": {
          "base_uri": "https://localhost:8080/",
          "height": 35
        },
        "outputId": "6233873d-5f5a-41aa-e9ce-41c902c476fb"
      },
      "source": [
        "words = text.split(' ')\n",
        "words"
      ],
      "execution_count": null,
      "outputs": [
        {
          "output_type": "execute_result",
          "data": {
            "text/plain": [
              "['you', 'say', 'goodbye', 'and', 'i', 'say', 'hello', '.']"
            ]
          },
          "metadata": {
            "tags": []
          },
          "execution_count": 5
        }
      ]
    },
    {
      "cell_type": "code",
      "metadata": {
        "id": "zqH-tylHYX5l"
      },
      "source": [
        "word_to_id = {}\n",
        "id_to_word = {}\n",
        "\n",
        "for word in words:\n",
        "  if word not in word_to_id:\n",
        "    new_id = len(word_to_id)\n",
        "    word_to_id[word] = new_id\n",
        "    id_to_word[new_id] = word"
      ],
      "execution_count": null,
      "outputs": []
    },
    {
      "cell_type": "code",
      "metadata": {
        "id": "D6IjyfMiZJsK",
        "colab": {
          "base_uri": "https://localhost:8080/",
          "height": 35
        },
        "outputId": "aa37fedb-474f-436d-905c-7ec86a841ced"
      },
      "source": [
        "word_to_id"
      ],
      "execution_count": null,
      "outputs": [
        {
          "output_type": "execute_result",
          "data": {
            "text/plain": [
              "{'.': 6, 'and': 3, 'goodbye': 2, 'hello': 5, 'i': 4, 'say': 1, 'you': 0}"
            ]
          },
          "metadata": {
            "tags": []
          },
          "execution_count": 7
        }
      ]
    },
    {
      "cell_type": "code",
      "metadata": {
        "id": "x9H1VS3vZLYH",
        "colab": {
          "base_uri": "https://localhost:8080/",
          "height": 35
        },
        "outputId": "21f2acc4-41b7-4dc6-b8c8-8f54c510d514"
      },
      "source": [
        "id_to_word"
      ],
      "execution_count": null,
      "outputs": [
        {
          "output_type": "execute_result",
          "data": {
            "text/plain": [
              "{0: 'you', 1: 'say', 2: 'goodbye', 3: 'and', 4: 'i', 5: 'hello', 6: '.'}"
            ]
          },
          "metadata": {
            "tags": []
          },
          "execution_count": 8
        }
      ]
    },
    {
      "cell_type": "code",
      "metadata": {
        "id": "M8pq69F5ZNvh"
      },
      "source": [
        "# 전처리 함수화\n",
        "def preprocess(text):\n",
        "  # 소문자화 & 끝부호 분리\n",
        "  text = text.lower()\n",
        "  text = text.replace('.', ' .')\n",
        "\n",
        "  # 띄어쓰기로 분리\n",
        "  words = text.split(' ')\n",
        "\n",
        "  word_to_id = {}\n",
        "  id_to_word = {}\n",
        "\n",
        "  for word in words:\n",
        "    if word not in word_to_id:\n",
        "      new_id = len(word_to_id)\n",
        "      word_to_id[word] = new_id\n",
        "      id_to_word[new_id] = word\n",
        "  \n",
        "  corpus = np.array([word_to_id[w] for w in words])\n",
        "  \n",
        "  return corpus, word_to_id, id_to_word"
      ],
      "execution_count": null,
      "outputs": []
    },
    {
      "cell_type": "code",
      "metadata": {
        "id": "F4f2jsOqbAif"
      },
      "source": [
        "text = 'You say goodbye and I say hello.'\n",
        "corpus, word_to_id, id_to_word = preprocess(text)"
      ],
      "execution_count": null,
      "outputs": []
    },
    {
      "cell_type": "code",
      "metadata": {
        "id": "3Xz-CI62bOxv",
        "colab": {
          "base_uri": "https://localhost:8080/",
          "height": 35
        },
        "outputId": "386a7ddd-5656-4587-e317-622e8f30ab73"
      },
      "source": [
        "corpus"
      ],
      "execution_count": null,
      "outputs": [
        {
          "output_type": "execute_result",
          "data": {
            "text/plain": [
              "array([0, 1, 2, 3, 4, 1, 5, 6])"
            ]
          },
          "metadata": {
            "tags": []
          },
          "execution_count": 42
        }
      ]
    },
    {
      "cell_type": "code",
      "metadata": {
        "id": "IVWKCFTgbTD4",
        "colab": {
          "base_uri": "https://localhost:8080/",
          "height": 35
        },
        "outputId": "66b25417-b046-4ee4-c578-22ee72d930bc"
      },
      "source": [
        "word_to_id"
      ],
      "execution_count": null,
      "outputs": [
        {
          "output_type": "execute_result",
          "data": {
            "text/plain": [
              "{'.': 6, 'and': 3, 'goodbye': 2, 'hello': 5, 'i': 4, 'say': 1, 'you': 0}"
            ]
          },
          "metadata": {
            "tags": []
          },
          "execution_count": 43
        }
      ]
    },
    {
      "cell_type": "code",
      "metadata": {
        "id": "b5FlGwI-bT8n",
        "colab": {
          "base_uri": "https://localhost:8080/",
          "height": 35
        },
        "outputId": "49888927-9331-4884-eb48-412a2ffd2710"
      },
      "source": [
        "id_to_word"
      ],
      "execution_count": null,
      "outputs": [
        {
          "output_type": "execute_result",
          "data": {
            "text/plain": [
              "{0: 'you', 1: 'say', 2: 'goodbye', 3: 'and', 4: 'i', 5: 'hello', 6: '.'}"
            ]
          },
          "metadata": {
            "tags": []
          },
          "execution_count": 44
        }
      ]
    },
    {
      "cell_type": "code",
      "metadata": {
        "id": "DCgflrvYbUry"
      },
      "source": [
        "# 동시발생 행렬\n",
        "def create_co_matrix(corpus, vocab_size, window_size=1): # corpus(말뭉치)에서 주변 단어이면 1, 아니면 0 부여\n",
        "  corpus_size = len(corpus)\n",
        "\n",
        "  # 비어있는 (모든 값이 0인) 행렬 선언\n",
        "  co_matrix = np.zeros((vocab_size, vocab_size), dtype=np.int32)\n",
        "\n",
        "  # corpus를 반복문으로 탐색\n",
        "  for idx, word_id in enumerate(corpus):\n",
        "    for i in range(1, window_size+1):\n",
        "      left_idx = idx - i\n",
        "      right_idx = idx + i\n",
        "\n",
        "      # 양 끝 데이터 처리 (데이터가 없는 경우)\n",
        "      if left_idx >= 0:\n",
        "        left_word_id = corpus[left_idx]\n",
        "        co_matrix[word_id, left_word_id] += 1\n",
        "      \n",
        "      if right_idx < corpus_size:\n",
        "        right_word_id = corpus[right_idx]\n",
        "        co_matrix[word_id, right_word_id] += 1\n",
        "\n",
        "  return co_matrix\n",
        "        "
      ],
      "execution_count": null,
      "outputs": []
    },
    {
      "cell_type": "code",
      "metadata": {
        "id": "1LnrW7c1gsWn"
      },
      "source": [
        "C = create_co_matrix(corpus, vocab_size=7)"
      ],
      "execution_count": null,
      "outputs": []
    },
    {
      "cell_type": "code",
      "metadata": {
        "id": "zY5oC_5DgvgI"
      },
      "source": [
        "# 코사인 유사도 구하기\n",
        "def cos_similarity(x, y, eps=1e-8):\n",
        "  nx = x / (np.sqrt(np.sum(x**2)) + eps)\n",
        "  ny = y / (np.sqrt(np.sum(y**2)) + eps)\n",
        "\n",
        "  return np.dot(nx, ny) # x*y / ||x|| ||y||"
      ],
      "execution_count": null,
      "outputs": []
    },
    {
      "cell_type": "code",
      "metadata": {
        "id": "p1JI3ScTn0yO",
        "colab": {
          "base_uri": "https://localhost:8080/",
          "height": 35
        },
        "outputId": "4f79b5b3-27fc-4ec2-dffa-37bd23f632c7"
      },
      "source": [
        "c0 = C[word_to_id['you']]\n",
        "c1 = C[word_to_id['i']]\n",
        "\n",
        "cos_similarity(c0,c1)"
      ],
      "execution_count": null,
      "outputs": [
        {
          "output_type": "execute_result",
          "data": {
            "text/plain": [
              "0.7071067691154799"
            ]
          },
          "metadata": {
            "tags": []
          },
          "execution_count": 48
        }
      ]
    },
    {
      "cell_type": "code",
      "metadata": {
        "id": "mHURt-RKqQPZ",
        "colab": {
          "base_uri": "https://localhost:8080/",
          "height": 35
        },
        "outputId": "04ee9823-3628-4531-f826-3e8cf4c500a0"
      },
      "source": [
        "C.shape"
      ],
      "execution_count": null,
      "outputs": [
        {
          "output_type": "execute_result",
          "data": {
            "text/plain": [
              "(7, 7)"
            ]
          },
          "metadata": {
            "tags": []
          },
          "execution_count": 49
        }
      ]
    },
    {
      "cell_type": "code",
      "metadata": {
        "id": "OSsxAD9an-Jz"
      },
      "source": [
        "def ppmi(C, eps=1e-8):\n",
        "  # pmi 계산을 위한 빈 행렬 정의\n",
        "  M = np.zeros_like(C, dtype=np.float64)\n",
        "  N = np.sum(C) # 동시발생행렬의 합\n",
        "  S = np.sum(C, axis=0) \n",
        "  total = C.shape[0] * C.shape[1]\n",
        "  cnt = 0\n",
        "\n",
        "\n",
        "  for i in range(C.shape[0]):\n",
        "    for j in range(C.shape[1]):\n",
        "      pmi = np.log2(C[i,j]*N / (S[j]*S[i]) + eps)\n",
        "      M[i, j] = max(0, pmi)\n",
        "\n",
        "\n",
        "  return M"
      ],
      "execution_count": null,
      "outputs": []
    },
    {
      "cell_type": "code",
      "metadata": {
        "id": "yB6DKdYbrFb1"
      },
      "source": [
        "W = ppmi(C)"
      ],
      "execution_count": null,
      "outputs": []
    },
    {
      "cell_type": "code",
      "metadata": {
        "id": "GqprXonZrI-M",
        "colab": {
          "base_uri": "https://localhost:8080/",
          "height": 141
        },
        "outputId": "5243c5c2-d460-4ec1-940d-eda028fd0c0f"
      },
      "source": [
        "print(W)"
      ],
      "execution_count": null,
      "outputs": [
        {
          "output_type": "stream",
          "text": [
            "[[0.    1.807 0.    0.    0.    0.    0.   ]\n",
            " [1.807 0.    0.807 0.    0.807 0.807 0.   ]\n",
            " [0.    0.807 0.    1.807 0.    0.    0.   ]\n",
            " [0.    0.    1.807 0.    1.807 0.    0.   ]\n",
            " [0.    0.807 0.    1.807 0.    0.    0.   ]\n",
            " [0.    0.807 0.    0.    0.    0.    2.807]\n",
            " [0.    0.    0.    0.    0.    2.807 0.   ]]\n"
          ],
          "name": "stdout"
        }
      ]
    },
    {
      "cell_type": "code",
      "metadata": {
        "id": "sczXemPqrN5z"
      },
      "source": [
        "U, S, V = np.linalg.svd(W)"
      ],
      "execution_count": null,
      "outputs": []
    },
    {
      "cell_type": "code",
      "metadata": {
        "id": "nhxq8ynMsG2P",
        "colab": {
          "base_uri": "https://localhost:8080/",
          "height": 52
        },
        "outputId": "97d649d3-53a2-4239-de0d-9a3a91a3c820"
      },
      "source": [
        "print(U[0])"
      ],
      "execution_count": null,
      "outputs": [
        {
          "output_type": "stream",
          "text": [
            "[ 3.409e-01  2.220e-16 -3.053e-16 -1.205e-01 -1.110e-16 -9.323e-01\n",
            " -4.384e-17]\n"
          ],
          "name": "stdout"
        }
      ]
    },
    {
      "cell_type": "code",
      "metadata": {
        "id": "5wxq-AoNsHtB"
      },
      "source": [
        "import matplotlib.pyplot as plt"
      ],
      "execution_count": null,
      "outputs": []
    },
    {
      "cell_type": "code",
      "metadata": {
        "id": "xGZhAhsusKUs",
        "colab": {
          "base_uri": "https://localhost:8080/",
          "height": 265
        },
        "outputId": "02e7b51c-2172-4209-a5a5-f696f924c818"
      },
      "source": [
        "for word, word_id in word_to_id.items():\n",
        "  plt.annotate(word, (U[word_id, 0], U[word_id,1]))\n",
        "\n",
        "plt.scatter(U[:,0], U[:,1], alpha=0.5)\n",
        "plt.show()"
      ],
      "execution_count": null,
      "outputs": [
        {
          "output_type": "display_data",
          "data": {
            "image/png": "[encoded data removed]",
            "text/plain": [
              "<Figure size 432x288 with 1 Axes>"
            ]
          },
          "metadata": {
            "tags": [],
            "needs_background": "light"
          }
        }
      ]
    },
    {
      "cell_type": "code",
      "metadata": {
        "id": "qWrqFoEFsbEO"
      },
      "source": [
        "# coding: utf-8\n",
        "import sys\n",
        "import os\n",
        "sys.path.append('..')\n",
        "try:\n",
        "    import urllib.request\n",
        "except ImportError:\n",
        "    raise ImportError('Use Python3!')\n",
        "import pickle\n",
        "import numpy as np\n",
        "\n",
        "\n",
        "url_base = 'https://raw.githubusercontent.com/tomsercu/lstm/master/data/'\n",
        "key_file = {\n",
        "    'train':'ptb.train.txt',\n",
        "    'test':'ptb.test.txt',\n",
        "    'valid':'ptb.valid.txt'\n",
        "}\n",
        "save_file = {\n",
        "    'train':'ptb.train.npy',\n",
        "    'test':'ptb.test.npy',\n",
        "    'valid':'ptb.valid.npy'\n",
        "}\n",
        "vocab_file = 'ptb.vocab.pkl'\n",
        "\n",
        "dataset_dir = ''\n",
        "\n",
        "\n",
        "def _download(file_name):\n",
        "    file_path = dataset_dir + '/' + file_name\n",
        "    if os.path.exists(file_path):\n",
        "        return\n",
        "\n",
        "    print('Downloading ' + file_name + ' ... ')\n",
        "\n",
        "    try:\n",
        "        urllib.request.urlretrieve(url_base + file_name, file_path)\n",
        "    except urllib.error.URLError:\n",
        "        import ssl\n",
        "        ssl._create_default_https_context = ssl._create_unverified_context\n",
        "        urllib.request.urlretrieve(url_base + file_name, file_path)\n",
        "\n",
        "    print('Done')\n",
        "\n",
        "\n",
        "def load_vocab():\n",
        "    vocab_path = dataset_dir + '/' + vocab_file\n",
        "\n",
        "    if os.path.exists(vocab_path):\n",
        "        with open(vocab_path, 'rb') as f:\n",
        "            word_to_id, id_to_word = pickle.load(f)\n",
        "        return word_to_id, id_to_word\n",
        "\n",
        "    word_to_id = {}\n",
        "    id_to_word = {}\n",
        "    data_type = 'train'\n",
        "    file_name = key_file[data_type]\n",
        "    file_path = dataset_dir + '/' + file_name\n",
        "\n",
        "    _download(file_name)\n",
        "\n",
        "    words = open(file_path).read().replace('\\n', '<eos>').strip().split()\n",
        "\n",
        "    for i, word in enumerate(words):\n",
        "        if word not in word_to_id:\n",
        "            tmp_id = len(word_to_id)\n",
        "            word_to_id[word] = tmp_id\n",
        "            id_to_word[tmp_id] = word\n",
        "\n",
        "    with open(vocab_path, 'wb') as f:\n",
        "        pickle.dump((word_to_id, id_to_word), f)\n",
        "\n",
        "    return word_to_id, id_to_word\n",
        "\n",
        "\n",
        "def load_data(data_type='train'):\n",
        "    '''\n",
        "        :param data_type: 데이터 유형: 'train' or 'test' or 'valid (val)'\n",
        "        :return:\n",
        "    '''\n",
        "    if data_type == 'val': data_type = 'valid'\n",
        "    save_path = dataset_dir + '/' + save_file[data_type]\n",
        "\n",
        "    word_to_id, id_to_word = load_vocab()\n",
        "\n",
        "    if os.path.exists(save_path):\n",
        "        corpus = np.load(save_path)\n",
        "        return corpus, word_to_id, id_to_word\n",
        "\n",
        "    file_name = key_file[data_type]\n",
        "    file_path = dataset_dir + '/' + file_name\n",
        "    _download(file_name)\n",
        "\n",
        "    words = open(file_path).read().replace('\\n', '<eos>').strip().split()\n",
        "    corpus = np.array([word_to_id[w] for w in words])\n",
        "\n",
        "    np.save(save_path, corpus)\n",
        "    return corpus, word_to_id, id_to_word"
      ],
      "execution_count": null,
      "outputs": []
    },
    {
      "cell_type": "code",
      "metadata": {
        "id": "uXAJDKHOxNVd",
        "colab": {
          "base_uri": "https://localhost:8080/",
          "height": 52
        },
        "outputId": "b6129a1c-f7cb-4ad7-b3f2-427bef96f65d"
      },
      "source": [
        "corpus, word_to_id, id_to_word = load_data('train')"
      ],
      "execution_count": null,
      "outputs": [
        {
          "output_type": "stream",
          "text": [
            "Downloading ptb.train.txt ... \n",
            "Done\n"
          ],
          "name": "stdout"
        }
      ]
    },
    {
      "cell_type": "code",
      "metadata": {
        "id": "xt10FszIxRuj",
        "colab": {
          "base_uri": "https://localhost:8080/",
          "height": 35
        },
        "outputId": "fb7e44be-cacc-41cf-a7fd-a32a8cc0ed9b"
      },
      "source": [
        "corpus"
      ],
      "execution_count": null,
      "outputs": [
        {
          "output_type": "execute_result",
          "data": {
            "text/plain": [
              "array([ 0,  1,  2, ..., 39, 26, 24])"
            ]
          },
          "metadata": {
            "tags": []
          },
          "execution_count": 59
        }
      ]
    },
    {
      "cell_type": "code",
      "metadata": {
        "id": "nSxwLCCDxWCs",
        "colab": {
          "base_uri": "https://localhost:8080/",
          "height": 35
        },
        "outputId": "149351e0-a961-4ef9-8e97-ac2a283f4b6f"
      },
      "source": [
        "print('말뭉치 크기:', len(corpus))"
      ],
      "execution_count": null,
      "outputs": [
        {
          "output_type": "stream",
          "text": [
            "말뭉치 크기: 929589\n"
          ],
          "name": "stdout"
        }
      ]
    },
    {
      "cell_type": "code",
      "metadata": {
        "id": "p6gWlldMx8Ag",
        "colab": {
          "base_uri": "https://localhost:8080/",
          "height": 52
        },
        "outputId": "042b43f2-37dc-4b0e-91a3-ae948fb4a1c2"
      },
      "source": [
        "corpus[:30]"
      ],
      "execution_count": null,
      "outputs": [
        {
          "output_type": "execute_result",
          "data": {
            "text/plain": [
              "array([ 0,  1,  2,  3,  4,  5,  6,  7,  8,  9, 10, 11, 12, 13, 14, 15, 16,\n",
              "       17, 18, 19, 20, 21, 22, 23, 24, 25, 26, 27, 28, 29])"
            ]
          },
          "metadata": {
            "tags": []
          },
          "execution_count": 61
        }
      ]
    },
    {
      "cell_type": "code",
      "metadata": {
        "id": "Q4ARJ1MCx9mT",
        "colab": {
          "base_uri": "https://localhost:8080/",
          "height": 35
        },
        "outputId": "fa1b952d-c9ae-48e5-9810-ad4d2cc3be6b"
      },
      "source": [
        "for id in corpus[:30]:\n",
        "  print(id_to_word[id], end=' ')"
      ],
      "execution_count": null,
      "outputs": [
        {
          "output_type": "stream",
          "text": [
            "aer banknote berlitz calloway centrust cluett fromstein gitano guterman hydro-quebec ipo kia memotec mlx nahb punts rake regatta rubens sim snack-food ssangyong swapo wachter <eos> pierre <unk> N years old "
          ],
          "name": "stdout"
        }
      ]
    },
    {
      "cell_type": "code",
      "metadata": {
        "id": "0NuK-5T9yHwg"
      },
      "source": [
        "C = create_co_matrix(corpus, vocab_size=len(word_to_id))"
      ],
      "execution_count": null,
      "outputs": []
    },
    {
      "cell_type": "code",
      "metadata": {
        "id": "w-4ROowPyoyo",
        "colab": {
          "base_uri": "https://localhost:8080/",
          "height": 35
        },
        "outputId": "e6410ef9-da72-4023-d790-bc82589072d0"
      },
      "source": [
        "C.shape"
      ],
      "execution_count": null,
      "outputs": [
        {
          "output_type": "execute_result",
          "data": {
            "text/plain": [
              "(10000, 10000)"
            ]
          },
          "metadata": {
            "tags": []
          },
          "execution_count": 64
        }
      ]
    },
    {
      "cell_type": "code",
      "metadata": {
        "id": "_D1RmtIayri2",
        "colab": {
          "base_uri": "https://localhost:8080/",
          "height": 141
        },
        "outputId": "d75d1db2-26d8-44bd-e39a-d905c22aeaa7"
      },
      "source": [
        "C"
      ],
      "execution_count": null,
      "outputs": [
        {
          "output_type": "execute_result",
          "data": {
            "text/plain": [
              "array([[0, 1, 0, ..., 0, 0, 0],\n",
              "       [1, 0, 1, ..., 0, 0, 0],\n",
              "       [0, 1, 0, ..., 0, 0, 0],\n",
              "       ...,\n",
              "       [0, 0, 0, ..., 0, 0, 0],\n",
              "       [0, 0, 0, ..., 0, 0, 0],\n",
              "       [0, 0, 0, ..., 0, 0, 0]], dtype=int32)"
            ]
          },
          "metadata": {
            "tags": []
          },
          "execution_count": 65
        }
      ]
    },
    {
      "cell_type": "code",
      "metadata": {
        "id": "r4N2tNi8yzgh"
      },
      "source": [
        "W = ppmi(C)"
      ],
      "execution_count": null,
      "outputs": []
    },
    {
      "cell_type": "code",
      "metadata": {
        "id": "m3-q4D1Hy60u"
      },
      "source": [
        "U, S, V = np.linalg.svd(W)"
      ],
      "execution_count": null,
      "outputs": []
    },
    {
      "cell_type": "markdown",
      "metadata": {
        "id": "4FAl1nfrWPfe"
      },
      "source": [
        "CBOW 모델 실습"
      ]
    },
    {
      "cell_type": "code",
      "metadata": {
        "id": "f7b_SLAaSNRy"
      },
      "source": [
        "text = 'You say goodbye and I say hello.'\n",
        "corpus, word_to_id, id_to_word = preprocess(text)\n",
        "vocab_size = len(word_to_id)"
      ],
      "execution_count": null,
      "outputs": []
    },
    {
      "cell_type": "code",
      "metadata": {
        "id": "86IUsoHXWcUi"
      },
      "source": [
        "import tensorflow as tf\n",
        "import numpy as np"
      ],
      "execution_count": null,
      "outputs": []
    },
    {
      "cell_type": "markdown",
      "metadata": {
        "id": "eNh68pBvWsd5"
      },
      "source": [
        "- Training set 구성\n",
        "- 모델\n",
        "- 학습 코드"
      ]
    },
    {
      "cell_type": "code",
      "metadata": {
        "id": "9t-iGKKCWfAS"
      },
      "source": [
        "train_set = []\n",
        "for i in range(1, len(corpus)-1):\n",
        "  target_id = corpus[i]\n",
        "  context = [corpus[i-1], corpus[i+1]]\n",
        "  train_set.append((context, target_id))"
      ],
      "execution_count": null,
      "outputs": []
    },
    {
      "cell_type": "code",
      "metadata": {
        "id": "NyEaf5UHX_H5",
        "colab": {
          "base_uri": "https://localhost:8080/",
          "height": 35
        },
        "outputId": "012e8c9c-9332-4ce7-fb28-61c20f9e1bd3"
      },
      "source": [
        "train_set"
      ],
      "execution_count": null,
      "outputs": [
        {
          "output_type": "execute_result",
          "data": {
            "text/plain": [
              "[([0, 2], 1), ([1, 3], 2), ([2, 4], 3), ([3, 1], 4), ([4, 5], 1), ([1, 6], 5)]"
            ]
          },
          "metadata": {
            "tags": []
          },
          "execution_count": 72
        }
      ]
    },
    {
      "cell_type": "code",
      "metadata": {
        "id": "ywcj-0xUYADw"
      },
      "source": [
        "# train_set[0][0] => x\n",
        "# train_set[0][1] => y\n",
        "\n",
        "x = np.array([data[0] for data in train_set])\n",
        "y = np.array([data[1] for data in train_set])"
      ],
      "execution_count": null,
      "outputs": []
    },
    {
      "cell_type": "code",
      "metadata": {
        "id": "SCo2G0cQZoJ8"
      },
      "source": [
        "y = tf.keras.utils.to_categorical(y, num_classes=vocab_size)"
      ],
      "execution_count": null,
      "outputs": []
    },
    {
      "cell_type": "code",
      "metadata": {
        "id": "tvotBHg7Zscm",
        "colab": {
          "base_uri": "https://localhost:8080/",
          "height": 124
        },
        "outputId": "8363f5d5-3564-4707-a45a-0c0c5ef98489"
      },
      "source": [
        "y"
      ],
      "execution_count": null,
      "outputs": [
        {
          "output_type": "execute_result",
          "data": {
            "text/plain": [
              "array([[0., 1., 0., 0., 0., 0., 0.],\n",
              "       [0., 0., 1., 0., 0., 0., 0.],\n",
              "       [0., 0., 0., 1., 0., 0., 0.],\n",
              "       [0., 0., 0., 0., 1., 0., 0.],\n",
              "       [0., 1., 0., 0., 0., 0., 0.],\n",
              "       [0., 0., 0., 0., 0., 1., 0.]], dtype=float32)"
            ]
          },
          "metadata": {
            "tags": []
          },
          "execution_count": 75
        }
      ]
    },
    {
      "cell_type": "code",
      "metadata": {
        "id": "Ly5X24xRZtH4"
      },
      "source": [
        "embedding_layer = tf.keras.layers.Embedding(vocab_size, 3, input_shape=(2,))"
      ],
      "execution_count": null,
      "outputs": []
    },
    {
      "cell_type": "code",
      "metadata": {
        "id": "cHPvWS5JaQMt"
      },
      "source": [
        "model = tf.keras.Sequential(\n",
        "    [\n",
        "     embedding_layer,\n",
        "     tf.keras.layers.GlobalAveragePooling1D(),\n",
        "     tf.keras.layers.Dense(vocab_size, activation='softmax')\n",
        "    ]\n",
        ")"
      ],
      "execution_count": null,
      "outputs": []
    },
    {
      "cell_type": "code",
      "metadata": {
        "id": "LlyYQiYCbIUQ",
        "colab": {
          "base_uri": "https://localhost:8080/",
          "height": 266
        },
        "outputId": "502c3a20-ed6a-4072-b72e-f6e4ca077b1e"
      },
      "source": [
        "model.build()\n",
        "model.summary()"
      ],
      "execution_count": null,
      "outputs": [
        {
          "output_type": "stream",
          "text": [
            "Model: \"sequential\"\n",
            "_________________________________________________________________\n",
            "Layer (type)                 Output Shape              Param #   \n",
            "=================================================================\n",
            "embedding_1 (Embedding)      (None, 2, 3)              21        \n",
            "_________________________________________________________________\n",
            "global_average_pooling1d (Gl (None, 3)                 0         \n",
            "_________________________________________________________________\n",
            "dense (Dense)                (None, 7)                 28        \n",
            "=================================================================\n",
            "Total params: 49\n",
            "Trainable params: 49\n",
            "Non-trainable params: 0\n",
            "_________________________________________________________________\n"
          ],
          "name": "stdout"
        }
      ]
    },
    {
      "cell_type": "code",
      "metadata": {
        "id": "yzel3L85bQXz",
        "colab": {
          "base_uri": "https://localhost:8080/",
          "height": 35
        },
        "outputId": "74287967-f0a1-45d4-88c4-459fcad9e4d2"
      },
      "source": [
        "model.compile(optimizer='adam', loss='categorical_crossentropy')\n",
        "history = model.fit(x, y, batch_size=x.shape[0])"
      ],
      "execution_count": null,
      "outputs": [
        {
          "output_type": "stream",
          "text": [
            "1/1 [==============================] - 0s 3ms/step - loss: 1.9434\n"
          ],
          "name": "stdout"
        }
      ]
    },
    {
      "cell_type": "code",
      "metadata": {
        "id": "7W2RqZmGcyMc",
        "colab": {
          "base_uri": "https://localhost:8080/",
          "height": 35
        },
        "outputId": "ff7714ba-7a70-4726-b284-2ace9cf9fa96"
      },
      "source": [
        "embedding_layer(word_to_id['you'])"
      ],
      "execution_count": null,
      "outputs": [
        {
          "output_type": "execute_result",
          "data": {
            "text/plain": [
              "<tf.Tensor: shape=(3,), dtype=float32, numpy=array([ 0.043, -0.013, -0.006], dtype=float32)>"
            ]
          },
          "metadata": {
            "tags": []
          },
          "execution_count": 82
        }
      ]
    },
    {
      "cell_type": "code",
      "metadata": {
        "id": "qIc_GmKOc01W",
        "colab": {
          "base_uri": "https://localhost:8080/",
          "height": 141
        },
        "outputId": "a449a8f7-0e06-4039-8e03-a5689112fe43"
      },
      "source": [
        "embedding_layer.get_weights()"
      ],
      "execution_count": null,
      "outputs": [
        {
          "output_type": "execute_result",
          "data": {
            "text/plain": [
              "[array([[ 0.043, -0.013, -0.006],\n",
              "        [-0.047,  0.008, -0.016],\n",
              "        [-0.023, -0.047, -0.015],\n",
              "        [-0.018, -0.037,  0.004],\n",
              "        [-0.035,  0.014,  0.018],\n",
              "        [-0.002,  0.03 , -0.015],\n",
              "        [-0.032, -0.035, -0.038]], dtype=float32)]"
            ]
          },
          "metadata": {
            "tags": []
          },
          "execution_count": 83
        }
      ]
    },
    {
      "cell_type": "markdown",
      "metadata": {
        "id": "XdIwZ5zydXZA"
      },
      "source": [
        "skip-gram"
      ]
    },
    {
      "cell_type": "code",
      "metadata": {
        "id": "EONAJtwnc3S7"
      },
      "source": [
        "train_set = []\n",
        "for i in range(1, len(corpus)-1):\n",
        "  target_id = corpus[i]\n",
        "  context = [corpus[i-1], corpus[i+1]]\n",
        "  train_set.append((context, target_id))"
      ],
      "execution_count": null,
      "outputs": []
    },
    {
      "cell_type": "code",
      "metadata": {
        "id": "ftYkKNq5di_F"
      },
      "source": [
        "x = np.array([data[1] for data in train_set])\n",
        "y = np.array([data[0] for data in train_set])"
      ],
      "execution_count": null,
      "outputs": []
    },
    {
      "cell_type": "code",
      "metadata": {
        "id": "L1ECyjz5dlVC",
        "colab": {
          "base_uri": "https://localhost:8080/",
          "height": 124
        },
        "outputId": "6823f3a1-fdf3-44a9-d4b3-966f0992d039"
      },
      "source": [
        "x, y"
      ],
      "execution_count": null,
      "outputs": [
        {
          "output_type": "execute_result",
          "data": {
            "text/plain": [
              "(array([1, 2, 3, 4, 1, 5]), array([[0, 2],\n",
              "        [1, 3],\n",
              "        [2, 4],\n",
              "        [3, 1],\n",
              "        [4, 5],\n",
              "        [1, 6]]))"
            ]
          },
          "metadata": {
            "tags": []
          },
          "execution_count": 90
        }
      ]
    },
    {
      "cell_type": "code",
      "metadata": {
        "id": "OCkhh6MJdmRh"
      },
      "source": [
        "y = tf.keras.utils.to_categorical(y, num_classes=vocab_size)"
      ],
      "execution_count": null,
      "outputs": []
    },
    {
      "cell_type": "code",
      "metadata": {
        "id": "aJF-xqUGdtT5",
        "colab": {
          "base_uri": "https://localhost:8080/",
          "height": 319
        },
        "outputId": "586d65c6-fa64-4c71-a42b-5416a0512e5e"
      },
      "source": [
        "y"
      ],
      "execution_count": null,
      "outputs": [
        {
          "output_type": "execute_result",
          "data": {
            "text/plain": [
              "array([[[1., 0., 0., 0., 0., 0., 0.],\n",
              "        [0., 0., 1., 0., 0., 0., 0.]],\n",
              "\n",
              "       [[0., 1., 0., 0., 0., 0., 0.],\n",
              "        [0., 0., 0., 1., 0., 0., 0.]],\n",
              "\n",
              "       [[0., 0., 1., 0., 0., 0., 0.],\n",
              "        [0., 0., 0., 0., 1., 0., 0.]],\n",
              "\n",
              "       [[0., 0., 0., 1., 0., 0., 0.],\n",
              "        [0., 1., 0., 0., 0., 0., 0.]],\n",
              "\n",
              "       [[0., 0., 0., 0., 1., 0., 0.],\n",
              "        [0., 0., 0., 0., 0., 1., 0.]],\n",
              "\n",
              "       [[0., 1., 0., 0., 0., 0., 0.],\n",
              "        [0., 0., 0., 0., 0., 0., 1.]]], dtype=float32)"
            ]
          },
          "metadata": {
            "tags": []
          },
          "execution_count": 92
        }
      ]
    },
    {
      "cell_type": "code",
      "metadata": {
        "id": "6afMZVIlduD9"
      },
      "source": [
        "y_ = []\n",
        "for item in y:\n",
        "  y_.append(np.sum(item, axis=0))\n",
        "\n",
        "y_ = np.array(y_)"
      ],
      "execution_count": null,
      "outputs": []
    },
    {
      "cell_type": "code",
      "metadata": {
        "id": "wbg94m1DeYIq"
      },
      "source": [
        "model = tf.keras.Sequential(\n",
        "    [\n",
        "     embedding_layer,\n",
        "     tf.keras.layers.GlobalAveragePooling1D(),\n",
        "     tf.keras.layers.Dense(vocab_size, activation='softmax')\n",
        "    ]\n",
        ")"
      ],
      "execution_count": null,
      "outputs": []
    },
    {
      "cell_type": "code",
      "metadata": {
        "id": "haDc8WjOeb-6",
        "colab": {
          "base_uri": "https://localhost:8080/",
          "height": 70
        },
        "outputId": "e5285ed8-972d-4b55-fc1f-5ff7948d4acf"
      },
      "source": [
        "model.compile(optimizer='adam', loss='binary_crossentropy')\n",
        "history = model.fit(x, y_, batch_size=x.shape[0])"
      ],
      "execution_count": null,
      "outputs": [
        {
          "output_type": "stream",
          "text": [
            "WARNING:tensorflow:Model was constructed with shape (None, 2) for input Tensor(\"embedding_1_input_1:0\", shape=(None, 2), dtype=float32), but it was called on an input with incompatible shape (6, 1).\n",
            "WARNING:tensorflow:Model was constructed with shape (None, 2) for input Tensor(\"embedding_1_input_1:0\", shape=(None, 2), dtype=float32), but it was called on an input with incompatible shape (6, 1).\n",
            "1/1 [==============================] - 0s 1ms/step - loss: 0.6671\n"
          ],
          "name": "stdout"
        }
      ]
    },
    {
      "cell_type": "code",
      "metadata": {
        "id": "8pmmHReee5GH",
        "colab": {
          "base_uri": "https://localhost:8080/",
          "height": 141
        },
        "outputId": "edb8ee0c-4b1c-4882-d7e7-2a7db2764556"
      },
      "source": [
        "embedding_layer.get_weights()"
      ],
      "execution_count": null,
      "outputs": [
        {
          "output_type": "execute_result",
          "data": {
            "text/plain": [
              "[array([[ 0.043, -0.013, -0.006],\n",
              "        [-0.048,  0.007, -0.017],\n",
              "        [-0.022, -0.046, -0.014],\n",
              "        [-0.019, -0.038,  0.003],\n",
              "        [-0.034,  0.015,  0.019],\n",
              "        [-0.001,  0.029, -0.014],\n",
              "        [-0.032, -0.035, -0.038]], dtype=float32)]"
            ]
          },
          "metadata": {
            "tags": []
          },
          "execution_count": 97
        }
      ]
    },
    {
      "cell_type": "code",
      "metadata": {
        "id": "-0QTloO5fBZt"
      },
      "source": [
        ""
      ],
      "execution_count": null,
      "outputs": []
    },
    {
      "cell_type": "code",
      "metadata": {
        "id": "HV2-sAzlkmwU"
      },
      "source": [
        ""
      ],
      "execution_count": null,
      "outputs": []
    },
    {
      "cell_type": "code",
      "metadata": {
        "id": "7i_oMY5wknqV"
      },
      "source": [
        ""
      ],
      "execution_count": null,
      "outputs": []
    },
    {
      "cell_type": "code",
      "metadata": {
        "id": "AWs12WC2koIO"
      },
      "source": [
        ""
      ],
      "execution_count": null,
      "outputs": []
    },
    {
      "cell_type": "code",
      "metadata": {
        "id": "MB-bZy0Ukog2"
      },
      "source": [
        "text = 'Starbucks Corporation is an American multinational chain of coffeehouses and roastery reserves headquartered in Seattle, Washington. As the world largest coffeehouse chain, Starbucks is seen to be the main representation of the United States second wave of coffee culture. As of early 2020, the company operates over 30,000 locations worldwide in more than 70 countries. Starbucks locations serve hot and cold drinks, whole-bean coffee, microground instant coffee known as VIA, espresso, caffe latte, full- and loose-leaf teas including Teavana tea products, Evolution Fresh juices, Frappuccino beverages, La Boulange pastries, and snacks including items such as chips and crackers; some offerings (including their annual fall launch of the Pumpkin Spice Latte) are seasonal or specific to the locality of the store.'"
      ],
      "execution_count": null,
      "outputs": []
    },
    {
      "cell_type": "code",
      "metadata": {
        "id": "cCR17NIFpNqI"
      },
      "source": [
        "# 전처리 함수화\n",
        "def preprocess(text):\n",
        "  text = text.lower()\n",
        "  text = text.replace('.', ' .')\n",
        "  text = text.replace(';', ' ;')\n",
        "  text = text.replace(',',' ')\n",
        "  text = text.replace('(', '( ')\n",
        "  text = text.replace(')', ' )')\n",
        "  text = text.replace('-', ' - ')\n",
        "\n",
        "  # 띄어쓰기로 분리\n",
        "  words = text.split(' ')\n",
        "\n",
        "  word_to_id = {}\n",
        "  id_to_word = {}\n",
        "\n",
        "  for word in words:\n",
        "    if word not in word_to_id:\n",
        "      new_id = len(word_to_id)\n",
        "      word_to_id[word] = new_id\n",
        "      id_to_word[new_id] = word\n",
        "  \n",
        "  corpus = np.array([word_to_id[w] for w in words])\n",
        "  \n",
        "  return corpus, word_to_id, id_to_word"
      ],
      "execution_count": null,
      "outputs": []
    },
    {
      "cell_type": "code",
      "metadata": {
        "id": "nYOp_vA0lZss"
      },
      "source": [
        "corpus, word_to_id, id_to_word = preprocess(text)\n",
        "vocab_size = len(word_to_id)"
      ],
      "execution_count": null,
      "outputs": []
    },
    {
      "cell_type": "code",
      "metadata": {
        "id": "tRNNQv3bo4KC",
        "colab": {
          "base_uri": "https://localhost:8080/",
          "height": 195
        },
        "outputId": "72548615-5134-4741-abbc-fd8d7e4e53a8"
      },
      "source": [
        "corpus"
      ],
      "execution_count": null,
      "outputs": [
        {
          "output_type": "execute_result",
          "data": {
            "text/plain": [
              "array([ 0,  1,  2,  3,  4,  5,  6,  7,  8,  9, 10, 11, 12, 13, 14, 15, 16,\n",
              "       17, 18, 19, 20, 21, 22,  6, 15,  0,  2, 23, 24, 25, 19, 26, 27,  7,\n",
              "       19, 28, 29, 30, 31,  7, 32, 33, 17, 18,  7, 34, 35, 15, 19, 36, 37,\n",
              "       38, 39, 40, 41, 42, 13, 43, 44, 45, 46, 17,  0, 41, 47, 48,  9, 49,\n",
              "       50, 15, 51, 15, 52, 15, 53, 32, 15, 54, 55, 32, 56, 18, 57, 15, 58,\n",
              "       15, 59, 60, 15, 61, 15, 52, 15, 15,  9, 62, 15, 52, 15, 63, 64, 65,\n",
              "       66, 67, 68, 15, 69, 70, 71, 15, 72, 73, 15, 74, 75, 76, 15,  9, 77,\n",
              "       65, 78, 79, 18, 80,  9, 81, 15, 15, 82, 83, 84, 85, 15, 65, 86, 87,\n",
              "       88, 89,  7, 19, 90, 91, 60, 15, 92, 93, 94, 95, 96, 24, 19, 97,  7,\n",
              "       19, 98, 17])"
            ]
          },
          "metadata": {
            "tags": []
          },
          "execution_count": 151
        }
      ]
    },
    {
      "cell_type": "code",
      "metadata": {
        "id": "cwxsjWAqo4k1",
        "colab": {
          "base_uri": "https://localhost:8080/",
          "height": 1000
        },
        "outputId": "ed8ed678-290f-4fad-a366-a700df84fd8f"
      },
      "source": [
        "word_to_id"
      ],
      "execution_count": null,
      "outputs": [
        {
          "output_type": "execute_result",
          "data": {
            "text/plain": [
              "{'': 15,\n",
              " '(': 85,\n",
              " ')': 92,\n",
              " '-': 52,\n",
              " '.': 17,\n",
              " '000': 40,\n",
              " '2020': 35,\n",
              " '30': 39,\n",
              " '70': 45,\n",
              " ';': 82,\n",
              " 'american': 4,\n",
              " 'an': 3,\n",
              " 'and': 9,\n",
              " 'annual': 87,\n",
              " 'are': 93,\n",
              " 'as': 18,\n",
              " 'be': 25,\n",
              " 'bean': 53,\n",
              " 'beverages': 73,\n",
              " 'boulange': 75,\n",
              " 'caffe': 59,\n",
              " 'chain': 6,\n",
              " 'chips': 80,\n",
              " 'coffee': 32,\n",
              " 'coffeehouse': 22,\n",
              " 'coffeehouses': 8,\n",
              " 'cold': 49,\n",
              " 'company': 36,\n",
              " 'corporation': 1,\n",
              " 'countries': 46,\n",
              " 'crackers': 81,\n",
              " 'culture': 33,\n",
              " 'drinks': 50,\n",
              " 'early': 34,\n",
              " 'espresso': 58,\n",
              " 'evolution': 69,\n",
              " 'fall': 88,\n",
              " 'frappuccino': 72,\n",
              " 'fresh': 70,\n",
              " 'full': 61,\n",
              " 'headquartered': 12,\n",
              " 'hot': 48,\n",
              " 'in': 13,\n",
              " 'including': 65,\n",
              " 'instant': 55,\n",
              " 'is': 2,\n",
              " 'items': 78,\n",
              " 'juices': 71,\n",
              " 'known': 56,\n",
              " 'la': 74,\n",
              " 'largest': 21,\n",
              " 'latte': 60,\n",
              " 'launch': 89,\n",
              " 'leaf': 63,\n",
              " 'locality': 97,\n",
              " 'locations': 41,\n",
              " 'loose': 62,\n",
              " 'main': 26,\n",
              " 'microground': 54,\n",
              " 'more': 43,\n",
              " 'multinational': 5,\n",
              " 'of': 7,\n",
              " 'offerings': 84,\n",
              " 'operates': 37,\n",
              " 'or': 95,\n",
              " 'over': 38,\n",
              " 'pastries': 76,\n",
              " 'products': 68,\n",
              " 'pumpkin': 90,\n",
              " 'representation': 27,\n",
              " 'reserves': 11,\n",
              " 'roastery': 10,\n",
              " 'seasonal': 94,\n",
              " 'seattle': 14,\n",
              " 'second': 30,\n",
              " 'seen': 23,\n",
              " 'serve': 47,\n",
              " 'snacks': 77,\n",
              " 'some': 83,\n",
              " 'specific': 96,\n",
              " 'spice': 91,\n",
              " 'starbucks': 0,\n",
              " 'states': 29,\n",
              " 'store': 98,\n",
              " 'such': 79,\n",
              " 'tea': 67,\n",
              " 'teas': 64,\n",
              " 'teavana': 66,\n",
              " 'than': 44,\n",
              " 'the': 19,\n",
              " 'their': 86,\n",
              " 'to': 24,\n",
              " 'united': 28,\n",
              " 'via': 57,\n",
              " 'washington': 16,\n",
              " 'wave': 31,\n",
              " 'whole': 51,\n",
              " 'world': 20,\n",
              " 'worldwide': 42}"
            ]
          },
          "metadata": {
            "tags": []
          },
          "execution_count": 152
        }
      ]
    },
    {
      "cell_type": "code",
      "metadata": {
        "id": "q6-7ywjJo34c",
        "colab": {
          "base_uri": "https://localhost:8080/",
          "height": 1000
        },
        "outputId": "696401af-d9a8-43ca-d724-0484ca5c91b4"
      },
      "source": [
        "id_to_word"
      ],
      "execution_count": null,
      "outputs": [
        {
          "output_type": "execute_result",
          "data": {
            "text/plain": [
              "{0: 'starbucks',\n",
              " 1: 'corporation',\n",
              " 2: 'is',\n",
              " 3: 'an',\n",
              " 4: 'american',\n",
              " 5: 'multinational',\n",
              " 6: 'chain',\n",
              " 7: 'of',\n",
              " 8: 'coffeehouses',\n",
              " 9: 'and',\n",
              " 10: 'roastery',\n",
              " 11: 'reserves',\n",
              " 12: 'headquartered',\n",
              " 13: 'in',\n",
              " 14: 'seattle',\n",
              " 15: '',\n",
              " 16: 'washington',\n",
              " 17: '.',\n",
              " 18: 'as',\n",
              " 19: 'the',\n",
              " 20: 'world',\n",
              " 21: 'largest',\n",
              " 22: 'coffeehouse',\n",
              " 23: 'seen',\n",
              " 24: 'to',\n",
              " 25: 'be',\n",
              " 26: 'main',\n",
              " 27: 'representation',\n",
              " 28: 'united',\n",
              " 29: 'states',\n",
              " 30: 'second',\n",
              " 31: 'wave',\n",
              " 32: 'coffee',\n",
              " 33: 'culture',\n",
              " 34: 'early',\n",
              " 35: '2020',\n",
              " 36: 'company',\n",
              " 37: 'operates',\n",
              " 38: 'over',\n",
              " 39: '30',\n",
              " 40: '000',\n",
              " 41: 'locations',\n",
              " 42: 'worldwide',\n",
              " 43: 'more',\n",
              " 44: 'than',\n",
              " 45: '70',\n",
              " 46: 'countries',\n",
              " 47: 'serve',\n",
              " 48: 'hot',\n",
              " 49: 'cold',\n",
              " 50: 'drinks',\n",
              " 51: 'whole',\n",
              " 52: '-',\n",
              " 53: 'bean',\n",
              " 54: 'microground',\n",
              " 55: 'instant',\n",
              " 56: 'known',\n",
              " 57: 'via',\n",
              " 58: 'espresso',\n",
              " 59: 'caffe',\n",
              " 60: 'latte',\n",
              " 61: 'full',\n",
              " 62: 'loose',\n",
              " 63: 'leaf',\n",
              " 64: 'teas',\n",
              " 65: 'including',\n",
              " 66: 'teavana',\n",
              " 67: 'tea',\n",
              " 68: 'products',\n",
              " 69: 'evolution',\n",
              " 70: 'fresh',\n",
              " 71: 'juices',\n",
              " 72: 'frappuccino',\n",
              " 73: 'beverages',\n",
              " 74: 'la',\n",
              " 75: 'boulange',\n",
              " 76: 'pastries',\n",
              " 77: 'snacks',\n",
              " 78: 'items',\n",
              " 79: 'such',\n",
              " 80: 'chips',\n",
              " 81: 'crackers',\n",
              " 82: ';',\n",
              " 83: 'some',\n",
              " 84: 'offerings',\n",
              " 85: '(',\n",
              " 86: 'their',\n",
              " 87: 'annual',\n",
              " 88: 'fall',\n",
              " 89: 'launch',\n",
              " 90: 'pumpkin',\n",
              " 91: 'spice',\n",
              " 92: ')',\n",
              " 93: 'are',\n",
              " 94: 'seasonal',\n",
              " 95: 'or',\n",
              " 96: 'specific',\n",
              " 97: 'locality',\n",
              " 98: 'store'}"
            ]
          },
          "metadata": {
            "tags": []
          },
          "execution_count": 153
        }
      ]
    },
    {
      "cell_type": "code",
      "metadata": {
        "id": "qsx_xXiGltjf"
      },
      "source": [
        "C = create_co_matrix(corpus, vocab_size)"
      ],
      "execution_count": null,
      "outputs": []
    },
    {
      "cell_type": "code",
      "metadata": {
        "id": "DdhvDeAsmLhg"
      },
      "source": [
        "W = ppmi(C)"
      ],
      "execution_count": null,
      "outputs": []
    },
    {
      "cell_type": "code",
      "metadata": {
        "id": "tWUsVwDOmUFE"
      },
      "source": [
        "U, S, V = np.linalg.svd(W)"
      ],
      "execution_count": null,
      "outputs": []
    },
    {
      "cell_type": "code",
      "metadata": {
        "id": "d-XuUQSVmZea",
        "colab": {
          "base_uri": "https://localhost:8080/",
          "height": 266
        },
        "outputId": "ac0c43bb-4e8b-42dd-f9b4-bcc630420cbc"
      },
      "source": [
        "for word, word_id in word_to_id.items():\n",
        "  plt.annotate(word, (U[word_id, 0], U[word_id,1]))\n",
        "\n",
        "plt.scatter(U[:,0], U[:,1], alpha=0.5)\n",
        "plt.show()"
      ],
      "execution_count": null,
      "outputs": [
        {
          "output_type": "display_data",
          "data": {
            "image/png": "[encoded data removed]",
            "text/plain": [
              "<Figure size 432x288 with 1 Axes>"
            ]
          },
          "metadata": {
            "tags": [],
            "needs_background": "light"
          }
        }
      ]
    },
    {
      "cell_type": "code",
      "metadata": {
        "id": "0LxB1gylmeoa"
      },
      "source": [
        "train_set = []\n",
        "for i in range(1, len(corpus)-1):\n",
        "  target_id = corpus[i]\n",
        "  context = [corpus[i-1], corpus[i+1]]\n",
        "  train_set.append((context, target_id))"
      ],
      "execution_count": null,
      "outputs": []
    },
    {
      "cell_type": "code",
      "metadata": {
        "id": "nHEdwV7Ymkvu"
      },
      "source": [
        "x = np.array([data[0] for data in train_set])\n",
        "y = np.array([data[1] for data in train_set])"
      ],
      "execution_count": null,
      "outputs": []
    },
    {
      "cell_type": "code",
      "metadata": {
        "id": "aeSJu9fDpyU4"
      },
      "source": [
        "y = tf.keras.utils.to_categorical(y, num_classes=vocab_size)"
      ],
      "execution_count": null,
      "outputs": []
    },
    {
      "cell_type": "code",
      "metadata": {
        "id": "4pgDsqh2mpxl"
      },
      "source": [
        "embedding_layer = tf.keras.layers.Embedding(vocab_size, 3, input_shape=(2,))"
      ],
      "execution_count": null,
      "outputs": []
    },
    {
      "cell_type": "code",
      "metadata": {
        "id": "zqklFlQJmt4C"
      },
      "source": [
        "model = tf.keras.Sequential(\n",
        "    [\n",
        "     embedding_layer,\n",
        "     tf.keras.layers.GlobalAveragePooling1D(),\n",
        "     tf.keras.layers.Dense(vocab_size, activation='softmax')\n",
        "    ]\n",
        ")"
      ],
      "execution_count": null,
      "outputs": []
    },
    {
      "cell_type": "code",
      "metadata": {
        "id": "KzN0JwXwm67d",
        "colab": {
          "base_uri": "https://localhost:8080/",
          "height": 35
        },
        "outputId": "0f4c55c7-0ad9-4c5a-9cd7-34d143c2ad5a"
      },
      "source": [
        "x.shape, y.shape"
      ],
      "execution_count": null,
      "outputs": [
        {
          "output_type": "execute_result",
          "data": {
            "text/plain": [
              "((154, 2), (154, 99))"
            ]
          },
          "metadata": {
            "tags": []
          },
          "execution_count": 168
        }
      ]
    },
    {
      "cell_type": "code",
      "metadata": {
        "id": "qLQBaGclmyeX",
        "colab": {
          "base_uri": "https://localhost:8080/",
          "height": 35
        },
        "outputId": "208758e0-eab9-4ca4-8051-151d94d1c902"
      },
      "source": [
        "model.compile(optimizer='adam', loss='categorical_crossentropy')\n",
        "history = model.fit(x, y, batch_size=x.shape[0])"
      ],
      "execution_count": null,
      "outputs": [
        {
          "output_type": "stream",
          "text": [
            "1/1 [==============================] - 0s 1ms/step - loss: 4.5948\n"
          ],
          "name": "stdout"
        }
      ]
    },
    {
      "cell_type": "code",
      "metadata": {
        "id": "hUN_D2tTm27J",
        "colab": {
          "base_uri": "https://localhost:8080/",
          "height": 266
        },
        "outputId": "808175f3-af2e-4619-a37e-786473e320fa"
      },
      "source": [
        "model.build()\n",
        "model.summary()"
      ],
      "execution_count": null,
      "outputs": [
        {
          "output_type": "stream",
          "text": [
            "Model: \"sequential_5\"\n",
            "_________________________________________________________________\n",
            "Layer (type)                 Output Shape              Param #   \n",
            "=================================================================\n",
            "embedding_5 (Embedding)      (None, 2, 3)              297       \n",
            "_________________________________________________________________\n",
            "global_average_pooling1d_5 ( (None, 3)                 0         \n",
            "_________________________________________________________________\n",
            "dense_5 (Dense)              (None, 99)                396       \n",
            "=================================================================\n",
            "Total params: 693\n",
            "Trainable params: 693\n",
            "Non-trainable params: 0\n",
            "_________________________________________________________________\n"
          ],
          "name": "stdout"
        }
      ]
    },
    {
      "cell_type": "code",
      "metadata": {
        "id": "tk-HBsjonIQw"
      },
      "source": [
        ""
      ],
      "execution_count": null,
      "outputs": []
    },
    {
      "cell_type": "code",
      "metadata": {
        "id": "aejDy7uD3TBY"
      },
      "source": [
        ""
      ],
      "execution_count": null,
      "outputs": []
    },
    {
      "cell_type": "code",
      "metadata": {
        "id": "qg2HLpm_3TnE"
      },
      "source": [
        ""
      ],
      "execution_count": null,
      "outputs": []
    },
    {
      "cell_type": "code",
      "metadata": {
        "id": "Yn0XDTUt30Xw"
      },
      "source": [
        "imdb = tf.keras.datasets.imdb\n",
        "(train_data, train_labels), (test_data, test_labels) = imdb.load_data(num_words=10000)"
      ],
      "execution_count": null,
      "outputs": []
    },
    {
      "cell_type": "code",
      "metadata": {
        "id": "cBfmoX-54x5b"
      },
      "source": [
        "word_index = imdb.get_word_index()"
      ],
      "execution_count": null,
      "outputs": []
    },
    {
      "cell_type": "code",
      "metadata": {
        "id": "fCHFacSSDQBj"
      },
      "source": [
        "vocab_size = len(word_index)"
      ],
      "execution_count": null,
      "outputs": []
    },
    {
      "cell_type": "code",
      "metadata": {
        "id": "mG4x3A1t4zd_"
      },
      "source": [
        "word_index = {k:(v+3) for k,v in word_index.items()}\n",
        "word_index['<PAD>'] = 0\n",
        "word_index['<START>'] = 1\n",
        "word_index['<UNK'] = 2\n",
        "word_index['<UNUSED'] = 3\n",
        "\n",
        "# word to id\n",
        "reverse_word_index = dict([(value,key) for (key,value) in word_index.items()])"
      ],
      "execution_count": null,
      "outputs": []
    },
    {
      "cell_type": "code",
      "metadata": {
        "id": "sD4u0AOd6AN6"
      },
      "source": [
        "def decode_review(text):\n",
        "  return ' '.join([reverse_word_index.get(i, '?') for i in text])"
      ],
      "execution_count": null,
      "outputs": []
    },
    {
      "cell_type": "code",
      "metadata": {
        "id": "Mx103vhs6o0N",
        "colab": {
          "base_uri": "https://localhost:8080/",
          "height": 195
        },
        "outputId": "284e7ceb-384c-41e5-9372-f7fa131716f9"
      },
      "source": [
        "decode_review(train_data[0])"
      ],
      "execution_count": null,
      "outputs": [
        {
          "output_type": "execute_result",
          "data": {
            "application/vnd.google.colaboratory.intrinsic+json": {
              "type": "string"
            },
            "text/plain": [
              "\"<START> this film was just brilliant casting location scenery story direction everyone's really suited the part they played and you could just imagine being there robert <UNK is an amazing actor and now the same being director <UNK father came from the same scottish island as myself so i loved the fact there was a real connection with this film the witty remarks throughout the film were great it was just brilliant so much that i bought the film as soon as it was released for <UNK and would recommend it to everyone to watch and the fly fishing was amazing really cried at the end it was so sad and you know what they say if you cry at a film it must have been good and this definitely was also <UNK to the two little boy's that played the <UNK of norman and paul they were just brilliant children are often left out of the <UNK list i think because the stars that play them all grown up are such a big profile for the whole film but these children are amazing and should be praised for what they have done don't you think the whole story was so lovely because it was true and was someone's life after all that was shared with us all\""
            ]
          },
          "metadata": {
            "tags": []
          },
          "execution_count": 201
        }
      ]
    },
    {
      "cell_type": "code",
      "metadata": {
        "id": "2JU6Cac_6qyN",
        "colab": {
          "base_uri": "https://localhost:8080/",
          "height": 35
        },
        "outputId": "6a026490-fbcc-4c09-d3eb-ed231ce49a52"
      },
      "source": [
        "len(train_data[0]), len(train_data[10]), len(train_data[5])"
      ],
      "execution_count": null,
      "outputs": [
        {
          "output_type": "execute_result",
          "data": {
            "text/plain": [
              "(218, 450, 43)"
            ]
          },
          "metadata": {
            "tags": []
          },
          "execution_count": 202
        }
      ]
    },
    {
      "cell_type": "code",
      "metadata": {
        "id": "LB0fEXti7cRi"
      },
      "source": [
        "train_data = tf.keras.preprocessing.sequence.pad_sequences(train_data,\n",
        "                                              value=0,\n",
        "                                              padding='pre',\n",
        "                                              maxlen=256)\n",
        "test_data = tf.keras.preprocessing.sequence.pad_sequences(test_data,\n",
        "                                              value=0,\n",
        "                                              padding='pre',\n",
        "                                              maxlen=256)"
      ],
      "execution_count": null,
      "outputs": []
    },
    {
      "cell_type": "code",
      "metadata": {
        "id": "TjRnBWXlDjM0",
        "colab": {
          "base_uri": "https://localhost:8080/",
          "height": 35
        },
        "outputId": "62b1fae8-1a77-4152-fd80-2bea5c42f360"
      },
      "source": [
        "len(train_data[0]), len(train_data[10]), len(train_data[5])"
      ],
      "execution_count": null,
      "outputs": [
        {
          "output_type": "execute_result",
          "data": {
            "text/plain": [
              "(256, 256, 256)"
            ]
          },
          "metadata": {
            "tags": []
          },
          "execution_count": 206
        }
      ]
    },
    {
      "cell_type": "code",
      "metadata": {
        "id": "My0W5-e08lfq"
      },
      "source": [
        "model = tf.keras.Sequential(\n",
        "    [\n",
        "     tf.keras.layers.Embedding(vocab_size, 16, input_shape=(None, )),\n",
        "     tf.keras.layers.GlobalAveragePooling1D(),\n",
        "     tf.keras.layers.Dense(16, activation='relu'),\n",
        "     tf.keras.layers.Dense(1, activation='sigmoid')\n",
        "    ]\n",
        ")"
      ],
      "execution_count": null,
      "outputs": []
    },
    {
      "cell_type": "code",
      "metadata": {
        "id": "vkMLHUkS-jBZ",
        "colab": {
          "base_uri": "https://localhost:8080/",
          "height": 301
        },
        "outputId": "4043f9e5-7e93-4955-c071-4722cacd8c3b"
      },
      "source": [
        "model.summary()"
      ],
      "execution_count": null,
      "outputs": [
        {
          "output_type": "stream",
          "text": [
            "Model: \"sequential_10\"\n",
            "_________________________________________________________________\n",
            "Layer (type)                 Output Shape              Param #   \n",
            "=================================================================\n",
            "embedding_10 (Embedding)     (None, None, 16)          1417344   \n",
            "_________________________________________________________________\n",
            "global_average_pooling1d_10  (None, 16)                0         \n",
            "_________________________________________________________________\n",
            "dense_14 (Dense)             (None, 16)                272       \n",
            "_________________________________________________________________\n",
            "dense_15 (Dense)             (None, 1)                 17        \n",
            "=================================================================\n",
            "Total params: 1,417,633\n",
            "Trainable params: 1,417,633\n",
            "Non-trainable params: 0\n",
            "_________________________________________________________________\n"
          ],
          "name": "stdout"
        }
      ]
    },
    {
      "cell_type": "code",
      "metadata": {
        "id": "mZB7q4sk-kK-"
      },
      "source": [
        "model.compile(optimizer='adam', loss='binary_crossentropy', metrics=['accuracy'])"
      ],
      "execution_count": null,
      "outputs": []
    },
    {
      "cell_type": "code",
      "metadata": {
        "id": "s2ZPyrWL--WO",
        "colab": {
          "base_uri": "https://localhost:8080/",
          "height": 570
        },
        "outputId": "0ca3198e-8650-4b55-b8c4-9057a64f2045"
      },
      "source": [
        "history = model.fit(train_data, \n",
        "          train_labels, \n",
        "          epochs=15, \n",
        "          batch_size=512, \n",
        "          validation_data=(test_data, test_labels))"
      ],
      "execution_count": null,
      "outputs": [
        {
          "output_type": "stream",
          "text": [
            "Epoch 1/15\n",
            "49/49 [==============================] - 1s 19ms/step - loss: 0.6895 - accuracy: 0.5834 - val_loss: 0.6838 - val_accuracy: 0.6188\n",
            "Epoch 2/15\n",
            "49/49 [==============================] - 1s 17ms/step - loss: 0.6714 - accuracy: 0.7170 - val_loss: 0.6568 - val_accuracy: 0.7321\n",
            "Epoch 3/15\n",
            "49/49 [==============================] - 1s 17ms/step - loss: 0.6286 - accuracy: 0.7737 - val_loss: 0.6044 - val_accuracy: 0.7673\n",
            "Epoch 4/15\n",
            "49/49 [==============================] - 1s 17ms/step - loss: 0.5614 - accuracy: 0.8104 - val_loss: 0.5354 - val_accuracy: 0.8184\n",
            "Epoch 5/15\n",
            "49/49 [==============================] - 1s 18ms/step - loss: 0.4857 - accuracy: 0.8444 - val_loss: 0.4684 - val_accuracy: 0.8353\n",
            "Epoch 6/15\n",
            "49/49 [==============================] - 1s 17ms/step - loss: 0.4183 - accuracy: 0.8632 - val_loss: 0.4157 - val_accuracy: 0.8508\n",
            "Epoch 7/15\n",
            "49/49 [==============================] - 1s 17ms/step - loss: 0.3661 - accuracy: 0.8758 - val_loss: 0.3787 - val_accuracy: 0.8578\n",
            "Epoch 8/15\n",
            "49/49 [==============================] - 1s 17ms/step - loss: 0.3278 - accuracy: 0.8874 - val_loss: 0.3524 - val_accuracy: 0.8631\n",
            "Epoch 9/15\n",
            "49/49 [==============================] - 1s 17ms/step - loss: 0.2989 - accuracy: 0.8946 - val_loss: 0.3336 - val_accuracy: 0.8675\n",
            "Epoch 10/15\n",
            "49/49 [==============================] - 1s 17ms/step - loss: 0.2759 - accuracy: 0.9007 - val_loss: 0.3202 - val_accuracy: 0.8711\n",
            "Epoch 11/15\n",
            "49/49 [==============================] - 1s 17ms/step - loss: 0.2572 - accuracy: 0.9076 - val_loss: 0.3094 - val_accuracy: 0.8745\n",
            "Epoch 12/15\n",
            "49/49 [==============================] - 1s 17ms/step - loss: 0.2414 - accuracy: 0.9136 - val_loss: 0.3021 - val_accuracy: 0.8770\n",
            "Epoch 13/15\n",
            "49/49 [==============================] - 1s 17ms/step - loss: 0.2276 - accuracy: 0.9189 - val_loss: 0.2967 - val_accuracy: 0.8782\n",
            "Epoch 14/15\n",
            "49/49 [==============================] - 1s 18ms/step - loss: 0.2155 - accuracy: 0.9237 - val_loss: 0.2926 - val_accuracy: 0.8798\n",
            "Epoch 15/15\n",
            "49/49 [==============================] - 1s 17ms/step - loss: 0.2050 - accuracy: 0.9272 - val_loss: 0.2894 - val_accuracy: 0.8807\n"
          ],
          "name": "stdout"
        }
      ]
    },
    {
      "cell_type": "code",
      "metadata": {
        "id": "OG-9TpUr_Js2",
        "colab": {
          "base_uri": "https://localhost:8080/",
          "height": 52
        },
        "outputId": "19e33c8c-3305-4828-d9aa-8bd14b5daefd"
      },
      "source": [
        "model.evaluate(test_data, test_labels)"
      ],
      "execution_count": null,
      "outputs": [
        {
          "output_type": "stream",
          "text": [
            "782/782 [==============================] - 1s 842us/step - loss: 0.2894 - accuracy: 0.8807\n"
          ],
          "name": "stdout"
        },
        {
          "output_type": "execute_result",
          "data": {
            "text/plain": [
              "[0.28937476873397827, 0.8806800246238708]"
            ]
          },
          "metadata": {
            "tags": []
          },
          "execution_count": 223
        }
      ]
    },
    {
      "cell_type": "code",
      "metadata": {
        "id": "CFhCx9PQD6dn",
        "colab": {
          "base_uri": "https://localhost:8080/",
          "height": 324
        },
        "outputId": "2c885401-6087-4893-971e-e536c13df2a2"
      },
      "source": [
        "import pandas as pd\n",
        "import matplotlib.pyplot as plt\n",
        "\n",
        "pd.DataFrame(history.history).plot(figsize=(8,5))\n",
        "plt.grid(True)\n",
        "plt.gca().set_ylim(0,1)\n",
        "plt.show()"
      ],
      "execution_count": null,
      "outputs": [
        {
          "output_type": "display_data",
          "data": {
            "image/png": "[encoded data removed]",
            "text/plain": [
              "<Figure size 576x360 with 1 Axes>"
            ]
          },
          "metadata": {
            "tags": [],
            "needs_background": "light"
          }
        }
      ]
    },
    {
      "cell_type": "code",
      "metadata": {
        "id": "0OMjHsiKEJls"
      },
      "source": [
        ""
      ],
      "execution_count": null,
      "outputs": []
    }
  ]
}